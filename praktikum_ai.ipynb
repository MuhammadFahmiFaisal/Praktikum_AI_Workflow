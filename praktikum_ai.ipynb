{
  "nbformat": 4,
  "nbformat_minor": 0,
  "metadata": {
    "colab": {
      "provenance": []
    },
    "kernelspec": {
      "name": "python3",
      "display_name": "Python 3"
    },
    "language_info": {
      "name": "python"
    }
  },
  "cells": [
    {
      "cell_type": "markdown",
      "source": [
        "Membuat Dataset dengan nama \"data_penjualan_latihan.csv\""
      ],
      "metadata": {
        "id": "vcyCoKg5-6Ya"
      }
    },
    {
      "cell_type": "code",
      "execution_count": null,
      "metadata": {
        "colab": {
          "base_uri": "https://localhost:8080/"
        },
        "id": "KUU3srDgrmH9",
        "outputId": "44290e3c-c87c-411d-c11d-2dbffa277f08"
      },
      "outputs": [
        {
          "output_type": "stream",
          "name": "stdout",
          "text": [
            "File CSV berhasil dibuat dan disimpan sebagai 'data_penjualan_latihan.csv'!\n"
          ]
        }
      ],
      "source": [
        "import pandas as pd\n",
        "\n",
        "# Buat data penjualan toko\n",
        "data = {\n",
        "    \"Tanggal\": [\"2025-02-01\", \"2025-02-02\", \"2025-02-03\", \"2025-02-04\", \"2025-02-05\", \"2025-02-06\", \"2025-02-07\", \"2025-02-08\", \"2025-02-09\", \"2025-02-10\",\n",
        "                \"2025-02-11\", \"2025-02-12\", \"2025-02-13\", \"2025-02-14\", \"2025-02-15\", \"2025-02-16\", \"2025-02-17\", \"2025-02-18\", \"2025-02-19\", \"2025-02-20\",\n",
        "                \"2025-02-21\", \"2025-02-22\", \"2025-02-23\", \"2025-02-24\", \"2025-02-25\", \"2025-02-26\", \"2025-02-27\", \"2025-02-28\", \"2025-03-01\", \"2025-03-02\",\n",
        "                \"2025-03-03\", \"2025-03-04\", \"2025-03-05\", \"2025-03-06\", \"2025-03-07\", \"2025-03-08\", \"2025-03-09\", \"2025-03-10\", \"2025-03-11\", \"2025-03-12\",\n",
        "                \"2025-03-13\", \"2025-03-14\", \"2025-03-15\", \"2025-03-16\", \"2025-03-17\", \"2025-03-18\", \"2025-03-19\", \"2025-03-20\", \"2025-03-21\", \"2025-03-22\"],\n",
        "    \"Produk\": [\"Minyak Goreng\", \"Beras\", \"Gula\", \"Tepung\", \"Mie Instan\", \"Susu\", \"Kopi\", \"Teh\", \"Sirup\", \"Daging Ayam\"] * 5,\n",
        "    \"Jumlah Terjual\": [10, 5, 7, 3, 12, 8, 18, 10, 8, 14] * 5,\n",
        "    \"stok\": [20, 15, 8, 12, 25, 10, 25, 15, 17, 10] * 5,\n",
        "    \"Harga Satuan\": [15000, 12000, 13000, 11000, 3000, 18000, 8000, 5000, 12000, 30000] * 5\n",
        "}\n",
        "\n",
        "# Simpan dalam DataFrame\n",
        "df = pd.DataFrame(data)\n",
        "\n",
        "# Simpan sebagai file CSV\n",
        "df.to_csv(\"data_penjualan_latihan.csv\", index=False)\n",
        "\n",
        "print(\"File CSV berhasil dibuat dan disimpan sebagai 'data_penjualan_latihan.csv'!\")"
      ]
    },
    {
      "cell_type": "markdown",
      "source": [
        "Membaca dan menampilkan seluruh data dalam Dataset penjualan"
      ],
      "metadata": {
        "id": "T9_XZCzj-3ow"
      }
    },
    {
      "cell_type": "code",
      "source": [
        "# Membaca file csv\n",
        "df = pd.read_csv(\"data_penjualan_latihan.csv\")\n",
        "\n",
        "# Menampilkan seluruh data penjualan\n",
        "print(df.head(50))"
      ],
      "metadata": {
        "colab": {
          "base_uri": "https://localhost:8080/"
        },
        "id": "m9cIVSqls3N4",
        "outputId": "e2c5ffd0-aedd-42d3-bb9b-0977c9f3d2e5"
      },
      "execution_count": null,
      "outputs": [
        {
          "output_type": "stream",
          "name": "stdout",
          "text": [
            "       Tanggal         Produk  Jumlah Terjual  stok  Harga Satuan\n",
            "0   2025-02-01  Minyak Goreng              10    20         15000\n",
            "1   2025-02-02          Beras               5    15         12000\n",
            "2   2025-02-03           Gula               7     8         13000\n",
            "3   2025-02-04         Tepung               3    12         11000\n",
            "4   2025-02-05     Mie Instan              12    25          3000\n",
            "5   2025-02-06           Susu               8    10         18000\n",
            "6   2025-02-07           Kopi              18    25          8000\n",
            "7   2025-02-08            Teh              10    15          5000\n",
            "8   2025-02-09          Sirup               8    17         12000\n",
            "9   2025-02-10    Daging Ayam              14    10         30000\n",
            "10  2025-02-11  Minyak Goreng              10    20         15000\n",
            "11  2025-02-12          Beras               5    15         12000\n",
            "12  2025-02-13           Gula               7     8         13000\n",
            "13  2025-02-14         Tepung               3    12         11000\n",
            "14  2025-02-15     Mie Instan              12    25          3000\n",
            "15  2025-02-16           Susu               8    10         18000\n",
            "16  2025-02-17           Kopi              18    25          8000\n",
            "17  2025-02-18            Teh              10    15          5000\n",
            "18  2025-02-19          Sirup               8    17         12000\n",
            "19  2025-02-20    Daging Ayam              14    10         30000\n",
            "20  2025-02-21  Minyak Goreng              10    20         15000\n",
            "21  2025-02-22          Beras               5    15         12000\n",
            "22  2025-02-23           Gula               7     8         13000\n",
            "23  2025-02-24         Tepung               3    12         11000\n",
            "24  2025-02-25     Mie Instan              12    25          3000\n",
            "25  2025-02-26           Susu               8    10         18000\n",
            "26  2025-02-27           Kopi              18    25          8000\n",
            "27  2025-02-28            Teh              10    15          5000\n",
            "28  2025-03-01          Sirup               8    17         12000\n",
            "29  2025-03-02    Daging Ayam              14    10         30000\n",
            "30  2025-03-03  Minyak Goreng              10    20         15000\n",
            "31  2025-03-04          Beras               5    15         12000\n",
            "32  2025-03-05           Gula               7     8         13000\n",
            "33  2025-03-06         Tepung               3    12         11000\n",
            "34  2025-03-07     Mie Instan              12    25          3000\n",
            "35  2025-03-08           Susu               8    10         18000\n",
            "36  2025-03-09           Kopi              18    25          8000\n",
            "37  2025-03-10            Teh              10    15          5000\n",
            "38  2025-03-11          Sirup               8    17         12000\n",
            "39  2025-03-12    Daging Ayam              14    10         30000\n",
            "40  2025-03-13  Minyak Goreng              10    20         15000\n",
            "41  2025-03-14          Beras               5    15         12000\n",
            "42  2025-03-15           Gula               7     8         13000\n",
            "43  2025-03-16         Tepung               3    12         11000\n",
            "44  2025-03-17     Mie Instan              12    25          3000\n",
            "45  2025-03-18           Susu               8    10         18000\n",
            "46  2025-03-19           Kopi              18    25          8000\n",
            "47  2025-03-20            Teh              10    15          5000\n",
            "48  2025-03-21          Sirup               8    17         12000\n",
            "49  2025-03-22    Daging Ayam              14    10         30000\n"
          ]
        }
      ]
    },
    {
      "cell_type": "markdown",
      "source": [
        "Mengecek data yang kosong, menambahkan kolom \"total penjualan\" dan kolom \"keuntungan\", mengatur tampilan agar tampilan tidak terpotong kebawah dan menampilkan hasil transformasi"
      ],
      "metadata": {
        "id": "bx8v7kVZ_jvJ"
      }
    },
    {
      "cell_type": "code",
      "source": [
        "# Cek apakah ada data kosong\n",
        "print(df.isnull().sum())\n",
        "\n",
        "# Konversi kolom \"Tanggal\" ke format datetime\n",
        "df[\"Tanggal\"] = pd.to_datetime(df[\"Tanggal\"])\n",
        "\n",
        "# Tambahkan kolom \"total penjualan\"\n",
        "df[\"Total Penjualan\"] = df[\"Jumlah Terjual\"] * df[\"Harga Satuan\"]\n",
        "\n",
        "# Tambahkan kolom \"keuntungan\" (asumsi modal 10.000 per produk)\n",
        "df[\"Keuntungan\"] = df[\"Total Penjualan\"] - (df[\"Jumlah Terjual\"] * 10000)\n",
        "\n",
        "# Mengatur tampilan agar tidak terpotong ke bawah\n",
        "pd.set_option('display.expand_frame_repr', False)\n",
        "\n",
        "# Menampilkan hasil transformasi\n",
        "print(df.head(50))"
      ],
      "metadata": {
        "colab": {
          "base_uri": "https://localhost:8080/"
        },
        "id": "agjtHff0uC_a",
        "outputId": "9b876365-aff8-4141-ca99-4f9cb781d68b"
      },
      "execution_count": null,
      "outputs": [
        {
          "output_type": "stream",
          "name": "stdout",
          "text": [
            "Tanggal           0\n",
            "Produk            0\n",
            "Jumlah Terjual    0\n",
            "stok              0\n",
            "Harga Satuan      0\n",
            "dtype: int64\n",
            "      Tanggal         Produk  Jumlah Terjual  stok  Harga Satuan  Total Penjualan  Keuntungan\n",
            "0  2025-02-01  Minyak Goreng              10    20         15000           150000       50000\n",
            "1  2025-02-02          Beras               5    15         12000            60000       10000\n",
            "2  2025-02-03           Gula               7     8         13000            91000       21000\n",
            "3  2025-02-04         Tepung               3    12         11000            33000        3000\n",
            "4  2025-02-05     Mie Instan              12    25          3000            36000      -84000\n",
            "5  2025-02-06           Susu               8    10         18000           144000       64000\n",
            "6  2025-02-07           Kopi              18    25          8000           144000      -36000\n",
            "7  2025-02-08            Teh              10    15          5000            50000      -50000\n",
            "8  2025-02-09          Sirup               8    17         12000            96000       16000\n",
            "9  2025-02-10    Daging Ayam              14    10         30000           420000      280000\n",
            "10 2025-02-11  Minyak Goreng              10    20         15000           150000       50000\n",
            "11 2025-02-12          Beras               5    15         12000            60000       10000\n",
            "12 2025-02-13           Gula               7     8         13000            91000       21000\n",
            "13 2025-02-14         Tepung               3    12         11000            33000        3000\n",
            "14 2025-02-15     Mie Instan              12    25          3000            36000      -84000\n",
            "15 2025-02-16           Susu               8    10         18000           144000       64000\n",
            "16 2025-02-17           Kopi              18    25          8000           144000      -36000\n",
            "17 2025-02-18            Teh              10    15          5000            50000      -50000\n",
            "18 2025-02-19          Sirup               8    17         12000            96000       16000\n",
            "19 2025-02-20    Daging Ayam              14    10         30000           420000      280000\n",
            "20 2025-02-21  Minyak Goreng              10    20         15000           150000       50000\n",
            "21 2025-02-22          Beras               5    15         12000            60000       10000\n",
            "22 2025-02-23           Gula               7     8         13000            91000       21000\n",
            "23 2025-02-24         Tepung               3    12         11000            33000        3000\n",
            "24 2025-02-25     Mie Instan              12    25          3000            36000      -84000\n",
            "25 2025-02-26           Susu               8    10         18000           144000       64000\n",
            "26 2025-02-27           Kopi              18    25          8000           144000      -36000\n",
            "27 2025-02-28            Teh              10    15          5000            50000      -50000\n",
            "28 2025-03-01          Sirup               8    17         12000            96000       16000\n",
            "29 2025-03-02    Daging Ayam              14    10         30000           420000      280000\n",
            "30 2025-03-03  Minyak Goreng              10    20         15000           150000       50000\n",
            "31 2025-03-04          Beras               5    15         12000            60000       10000\n",
            "32 2025-03-05           Gula               7     8         13000            91000       21000\n",
            "33 2025-03-06         Tepung               3    12         11000            33000        3000\n",
            "34 2025-03-07     Mie Instan              12    25          3000            36000      -84000\n",
            "35 2025-03-08           Susu               8    10         18000           144000       64000\n",
            "36 2025-03-09           Kopi              18    25          8000           144000      -36000\n",
            "37 2025-03-10            Teh              10    15          5000            50000      -50000\n",
            "38 2025-03-11          Sirup               8    17         12000            96000       16000\n",
            "39 2025-03-12    Daging Ayam              14    10         30000           420000      280000\n",
            "40 2025-03-13  Minyak Goreng              10    20         15000           150000       50000\n",
            "41 2025-03-14          Beras               5    15         12000            60000       10000\n",
            "42 2025-03-15           Gula               7     8         13000            91000       21000\n",
            "43 2025-03-16         Tepung               3    12         11000            33000        3000\n",
            "44 2025-03-17     Mie Instan              12    25          3000            36000      -84000\n",
            "45 2025-03-18           Susu               8    10         18000           144000       64000\n",
            "46 2025-03-19           Kopi              18    25          8000           144000      -36000\n",
            "47 2025-03-20            Teh              10    15          5000            50000      -50000\n",
            "48 2025-03-21          Sirup               8    17         12000            96000       16000\n",
            "49 2025-03-22    Daging Ayam              14    10         30000           420000      280000\n"
          ]
        }
      ]
    },
    {
      "cell_type": "markdown",
      "source": [
        "Installasi scikit-learn"
      ],
      "metadata": {
        "id": "9TnU5lwB_-3P"
      }
    },
    {
      "cell_type": "code",
      "source": [
        "!pip install scikit-learn"
      ],
      "metadata": {
        "colab": {
          "base_uri": "https://localhost:8080/"
        },
        "id": "n0NceZKAvoCn",
        "outputId": "a534e23a-6ce6-47a7-9faf-d462aaed8cc4"
      },
      "execution_count": null,
      "outputs": [
        {
          "output_type": "stream",
          "name": "stdout",
          "text": [
            "Requirement already satisfied: scikit-learn in /usr/local/lib/python3.11/dist-packages (1.6.1)\n",
            "Requirement already satisfied: numpy>=1.19.5 in /usr/local/lib/python3.11/dist-packages (from scikit-learn) (1.26.4)\n",
            "Requirement already satisfied: scipy>=1.6.0 in /usr/local/lib/python3.11/dist-packages (from scikit-learn) (1.13.1)\n",
            "Requirement already satisfied: joblib>=1.2.0 in /usr/local/lib/python3.11/dist-packages (from scikit-learn) (1.4.2)\n",
            "Requirement already satisfied: threadpoolctl>=3.1.0 in /usr/local/lib/python3.11/dist-packages (from scikit-learn) (3.5.0)\n"
          ]
        }
      ]
    },
    {
      "cell_type": "markdown",
      "source": [
        "Melatih Model AI (Train & Execute) menggunakan  Decision Tree Classifier dengan accuracy_score"
      ],
      "metadata": {
        "id": "FhrRPR0yAFud"
      }
    },
    {
      "cell_type": "code",
      "source": [
        "from sklearn.model_selection import train_test_split\n",
        "from sklearn.tree import DecisionTreeClassifier\n",
        "from sklearn.metrics import accuracy_score\n",
        "\n",
        "# Pilih fitur (X) dan target (y)\n",
        "X = df[[\"Jumlah Terjual\", \"stok\"]]\n",
        "y = (df[\"stok\"] < 5).astype (int) # 1 jika stok kurang dari 5, 0 jika cukup\n",
        "\n",
        "# Split data menjadi train dan test\n",
        "X_train, X_test, y_train, y_test = train_test_split(X, y, test_size=0.2, random_state=42)\n",
        "\n",
        "# Buat model Decision Tree\n",
        "model = DecisionTreeClassifier()\n",
        "model.fit(X_train, y_train)\n",
        "\n",
        "# Evaluasi model\n",
        "y_pred = model.predict(X_test)\n",
        "print(\"Akurasi Model: \", accuracy_score (y_test, y_pred))"
      ],
      "metadata": {
        "colab": {
          "base_uri": "https://localhost:8080/"
        },
        "id": "85aqWqqRvyVC",
        "outputId": "58d94f31-8be4-4f02-f34e-de1384a109fa"
      },
      "execution_count": null,
      "outputs": [
        {
          "output_type": "stream",
          "name": "stdout",
          "text": [
            "Akurasi Model:  1.0\n"
          ]
        }
      ]
    },
    {
      "cell_type": "markdown",
      "source": [
        " Prediksi Restock Produk (Execute & Insights) dimana hasil prediksi menunjukkan bahwa Produk perlu di-restock karena prediksi [0] == 0"
      ],
      "metadata": {
        "id": "f3GGNuPsAYv1"
      }
    },
    {
      "cell_type": "code",
      "source": [
        "# Contoh produk baru (jumlah terjual 8, stok tersisa 3)\n",
        "produk_baru = [[8, 3]]\n",
        "prediksi = model.predict(produk_baru)\n",
        "\n",
        "if prediksi[0] == 0:\n",
        "    print(\"Produk perlu di-restock!\")\n",
        "else:\n",
        "    print(\"Stok masih cukup.\")"
      ],
      "metadata": {
        "colab": {
          "base_uri": "https://localhost:8080/"
        },
        "id": "ChDdQyx9xayV",
        "outputId": "c34f7a38-93d0-420f-ff55-3fb38e8895fd"
      },
      "execution_count": null,
      "outputs": [
        {
          "output_type": "stream",
          "name": "stdout",
          "text": [
            "Produk perlu di-restock!\n"
          ]
        },
        {
          "output_type": "stream",
          "name": "stderr",
          "text": [
            "/usr/local/lib/python3.11/dist-packages/sklearn/utils/validation.py:2739: UserWarning: X does not have valid feature names, but DecisionTreeClassifier was fitted with feature names\n",
            "  warnings.warn(\n"
          ]
        }
      ]
    },
    {
      "cell_type": "markdown",
      "source": [
        "Visual Output Grafik scatter plot antara Jumlah Terjual dan Stok, dengan warna\n",
        "berdasarkan keuntungan."
      ],
      "metadata": {
        "id": "lSQg118OB2rc"
      }
    },
    {
      "cell_type": "code",
      "source": [
        "import matplotlib.pyplot as plt\n",
        "\n",
        "plt.scatter(df [\"Jumlah Terjual\"], df[\"stok\"], c=df[\"Keuntungan\"], cmap=\"coolwarm\")\n",
        "plt.xlabel(\"Jumlah Terjual\")\n",
        "plt.ylabel(\"Stok\")\n",
        "plt.title(\"Analisis Penjualan dan Stok\")\n",
        "plt.colorbar (label=\"Keuntungan\")\n",
        "plt.show()"
      ],
      "metadata": {
        "colab": {
          "base_uri": "https://localhost:8080/",
          "height": 472
        },
        "id": "2NNUyxoIzcAq",
        "outputId": "d775516b-6303-4f6c-e1f5-4afe9b5cac57"
      },
      "execution_count": null,
      "outputs": [
        {
          "output_type": "display_data",
          "data": {
            "text/plain": [
              "<Figure size 640x480 with 2 Axes>"
            ],
            "image/png": "[encoded data removed]"
          },
          "metadata": {}
        }
      ]
    }
  ]
}